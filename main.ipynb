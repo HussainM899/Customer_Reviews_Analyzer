{
 "cells": [
  {
   "cell_type": "code",
   "execution_count": null,
   "metadata": {},
   "outputs": [],
   "source": [
    "from datasets import load_dataset\n",
    "\n",
    "# Load the dataset with a specific config name\n",
    "\n",
    "dataset = load_dataset(\"McAuley-Lab/Amazon-Reviews-2023\")\n",
    "\n",
    "\n",
    "# Print dataset info\n",
    "print(\"Dataset Info:\")\n",
    "print(dataset)\n",
    "\n",
    "# Accessing dataset columns\n",
    "print(\"Columns:\")\n",
    "print(dataset[\"train\"].column_names)\n",
    "\n",
    "# Display the first few rows of the dataset\n",
    "print(\"Sample Data:\")\n",
    "print(dataset[\"train\"][0:5])"
   ]
  }
 ],
 "metadata": {
  "kernelspec": {
   "display_name": "Python 3",
   "language": "python",
   "name": "python3"
  },
  "language_info": {
   "codemirror_mode": {
    "name": "ipython",
    "version": 3
   },
   "file_extension": ".py",
   "mimetype": "text/x-python",
   "name": "python",
   "nbconvert_exporter": "python",
   "pygments_lexer": "ipython3",
   "version": "3.12.2"
  }
 },
 "nbformat": 4,
 "nbformat_minor": 2
}
